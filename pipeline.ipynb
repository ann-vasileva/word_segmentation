{
  "nbformat": 4,
  "nbformat_minor": 0,
  "metadata": {
    "colab": {
      "provenance": []
    },
    "kernelspec": {
      "name": "python3",
      "display_name": "Python 3"
    },
    "language_info": {
      "name": "python"
    }
  },
  "cells": [
    {
      "cell_type": "code",
      "execution_count": 5,
      "metadata": {
        "id": "eNxl2tW6TQjX"
      },
      "outputs": [],
      "source": [
        "from src.preprocessing import split_on_heuristics\n",
        "from src.dictionary_utils import extract_wordforms, extend_dictionary, build_trie\n",
        "from src.ngram_utils import load_unigrams, load_bigrams\n",
        "from src.segmentation import segment_text_fast\n",
        "from src.utils import get_space_indices\n",
        "import kagglehub\n",
        "import pandas as pd"
      ]
    },
    {
      "cell_type": "code",
      "source": [
        "!unzip data/dictionary.txt.zip -d data\n",
        "!unzip data/bigrams.zip -d data\n",
        "!unzip data/unigrams.zip  -d data"
      ],
      "metadata": {
        "id": "Z9V1gpq7Ui5t"
      },
      "execution_count": null,
      "outputs": []
    },
    {
      "cell_type": "markdown",
      "source": [
        "## Load data"
      ],
      "metadata": {
        "id": "KojzRl71Xj7z"
      }
    },
    {
      "cell_type": "code",
      "source": [
        "texts = pd.read_csv(\n",
        "    \"data/dataset_1937770_3.txt\",\n",
        "    header=None,\n",
        "    names=['index', 'text_no_spaces'],\n",
        "    index_col=False,\n",
        "    engine='python',\n",
        ")\n",
        "texts = texts.drop(columns=\"index\")\n",
        "texts = texts.iloc[1:]"
      ],
      "metadata": {
        "colab": {
          "base_uri": "https://localhost:8080/"
        },
        "id": "gs5p-sgyTyCw",
        "outputId": "577962d1-2b7f-40f6-c031-4f87acde36dd"
      },
      "execution_count": 44,
      "outputs": [
        {
          "output_type": "stream",
          "name": "stderr",
          "text": [
            "/tmp/ipython-input-3722828685.py:1: ParserWarning: Length of header or names does not match length of data. This leads to a loss of data with index_col=False.\n",
            "  texts = pd.read_csv(\n"
          ]
        }
      ]
    },
    {
      "cell_type": "code",
      "source": [
        "path = kagglehub.dataset_download(\"antonoof/avito-data\")\n",
        "print(\"Path to dataset files:\", path)\n",
        "df_train = pd.read_parquet('/kaggle/input/avito-data/data/train_part_0001.snappy.parquet')"
      ],
      "metadata": {
        "colab": {
          "base_uri": "https://localhost:8080/"
        },
        "id": "bUU7GlOAWGPs",
        "outputId": "70cc8e83-6f25-49c2-c156-de6a97356340"
      },
      "execution_count": 56,
      "outputs": [
        {
          "output_type": "stream",
          "name": "stdout",
          "text": [
            "Using Colab cache for faster access to the 'avito-data' dataset.\n",
            "Path to dataset files: /kaggle/input/avito-data\n"
          ]
        }
      ]
    },
    {
      "cell_type": "markdown",
      "source": [
        "## Build dataset"
      ],
      "metadata": {
        "id": "HIK8Sfo3XnQ-"
      }
    },
    {
      "cell_type": "code",
      "source": [
        "dictionary = extract_wordforms(\"data/dictionary.txt\")\n",
        "top_avito = extend_dictionary(df_train, top_k=1000)\n",
        "dictionary = sorted(set(top_avito) | set(dictionary))\n",
        "trie = build_trie(dictionary)"
      ],
      "metadata": {
        "colab": {
          "base_uri": "https://localhost:8080/"
        },
        "id": "p9RtWKyBUhgF",
        "outputId": "1b889309-e1b6-4e28-89ba-24fe84cfd979"
      },
      "execution_count": 57,
      "outputs": [
        {
          "output_type": "stream",
          "name": "stderr",
          "text": [
            "100%|██████████| 500000/500000 [00:01<00:00, 308796.20it/s]\n",
            "100%|██████████| 500000/500000 [00:01<00:00, 313916.62it/s]\n"
          ]
        }
      ]
    },
    {
      "cell_type": "markdown",
      "source": [
        "## Add ngrams"
      ],
      "metadata": {
        "id": "f05RqaYKXqOD"
      }
    },
    {
      "cell_type": "code",
      "source": [
        "unigrams = load_unigrams(\"data/unigrams\")\n",
        "bigrams = load_bigrams(\"data/bigrams\")"
      ],
      "metadata": {
        "id": "SpAg8wz-WsrO"
      },
      "execution_count": 58,
      "outputs": []
    },
    {
      "cell_type": "markdown",
      "source": [
        "## Get predictions"
      ],
      "metadata": {
        "id": "Ix43kfynWt7w"
      }
    },
    {
      "cell_type": "code",
      "source": [
        "texts['bigrams'] = texts['text_no_spaces'].apply(lambda x: segment_text_fast(x, trie, bigrams, unigrams))"
      ],
      "metadata": {
        "id": "_ypRBiq_TcUC"
      },
      "execution_count": 59,
      "outputs": []
    },
    {
      "cell_type": "code",
      "source": [
        "texts['predicted_positions'] = texts['bigrams'].apply(get_space_indices)"
      ],
      "metadata": {
        "id": "sbY1IkqHWxh1"
      },
      "execution_count": 60,
      "outputs": []
    },
    {
      "cell_type": "code",
      "source": [
        "texts['predicted_positions']"
      ],
      "metadata": {
        "colab": {
          "base_uri": "https://localhost:8080/",
          "height": 458
        },
        "id": "DAUBfgJyXuaq",
        "outputId": "67426ca9-f5a8-4e89-83f1-331b22d280a3"
      },
      "execution_count": 61,
      "outputs": [
        {
          "output_type": "execute_result",
          "data": {
            "text/plain": [
              "1                  [5, 10, 12]\n",
              "2                    [3, 6, 7]\n",
              "3          [4, 12, 13, 20, 21]\n",
              "4                  [5, 10, 18]\n",
              "5                      [5, 10]\n",
              "                 ...          \n",
              "1001                    [1, 3]\n",
              "1002    [6, 7, 10, 12, 16, 18]\n",
              "1003               [3, 11, 19]\n",
              "1004                    [6, 8]\n",
              "1005                [6, 9, 12]\n",
              "Name: predicted_positions, Length: 1005, dtype: object"
            ],
            "text/html": [
              "<div>\n",
              "<style scoped>\n",
              "    .dataframe tbody tr th:only-of-type {\n",
              "        vertical-align: middle;\n",
              "    }\n",
              "\n",
              "    .dataframe tbody tr th {\n",
              "        vertical-align: top;\n",
              "    }\n",
              "\n",
              "    .dataframe thead th {\n",
              "        text-align: right;\n",
              "    }\n",
              "</style>\n",
              "<table border=\"1\" class=\"dataframe\">\n",
              "  <thead>\n",
              "    <tr style=\"text-align: right;\">\n",
              "      <th></th>\n",
              "      <th>predicted_positions</th>\n",
              "    </tr>\n",
              "  </thead>\n",
              "  <tbody>\n",
              "    <tr>\n",
              "      <th>1</th>\n",
              "      <td>[5, 10, 12]</td>\n",
              "    </tr>\n",
              "    <tr>\n",
              "      <th>2</th>\n",
              "      <td>[3, 6, 7]</td>\n",
              "    </tr>\n",
              "    <tr>\n",
              "      <th>3</th>\n",
              "      <td>[4, 12, 13, 20, 21]</td>\n",
              "    </tr>\n",
              "    <tr>\n",
              "      <th>4</th>\n",
              "      <td>[5, 10, 18]</td>\n",
              "    </tr>\n",
              "    <tr>\n",
              "      <th>5</th>\n",
              "      <td>[5, 10]</td>\n",
              "    </tr>\n",
              "    <tr>\n",
              "      <th>...</th>\n",
              "      <td>...</td>\n",
              "    </tr>\n",
              "    <tr>\n",
              "      <th>1001</th>\n",
              "      <td>[1, 3]</td>\n",
              "    </tr>\n",
              "    <tr>\n",
              "      <th>1002</th>\n",
              "      <td>[6, 7, 10, 12, 16, 18]</td>\n",
              "    </tr>\n",
              "    <tr>\n",
              "      <th>1003</th>\n",
              "      <td>[3, 11, 19]</td>\n",
              "    </tr>\n",
              "    <tr>\n",
              "      <th>1004</th>\n",
              "      <td>[6, 8]</td>\n",
              "    </tr>\n",
              "    <tr>\n",
              "      <th>1005</th>\n",
              "      <td>[6, 9, 12]</td>\n",
              "    </tr>\n",
              "  </tbody>\n",
              "</table>\n",
              "<p>1005 rows × 1 columns</p>\n",
              "</div><br><label><b>dtype:</b> object</label>"
            ]
          },
          "metadata": {},
          "execution_count": 61
        }
      ]
    },
    {
      "cell_type": "code",
      "source": [
        "texts['id'] = texts.index\n",
        "res = texts[['id', \"predicted_positions\"]]"
      ],
      "metadata": {
        "id": "2f1WOpUOX077"
      },
      "execution_count": 63,
      "outputs": []
    },
    {
      "cell_type": "code",
      "source": [
        "res.to_csv(\"baseline.csv\",index=False)"
      ],
      "metadata": {
        "id": "GKMsmIIdYD_-"
      },
      "execution_count": 67,
      "outputs": []
    }
  ]
}